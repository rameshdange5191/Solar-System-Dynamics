{
 "cells": [
  {
   "cell_type": "code",
   "execution_count": 1,
   "metadata": {
    "vscode": {
     "languageId": "cpp"
    }
   },
   "outputs": [],
   "source": [
    "# include \"phyvec/phyvec.cpp\"\n",
    "# include \"body/crtb/Crtb.cpp\"\n",
    "# include <iostream>\n",
    "# include <cmath>\n",
    "# include <functional>\n",
    "# include <string>\n",
    "# include <vector>\n",
    "# include \"integrator/integrator.cpp\"\n",
    "# include \"body/Body.cpp\"\n",
    "# include \"body/System.cpp\"\n",
    "# include \"body/black_photon/Black_photon.cpp\"\n",
    "using namespace std;"
   ]
  },
  {
   "cell_type": "code",
   "execution_count": 2,
   "metadata": {
    "vscode": {
     "languageId": "cpp"
    }
   },
   "outputs": [],
   "source": [
    "Crtb a;\n",
    "\n",
    "Body body0((1 - 0.001) / a.getG(), phyvec(0, 0.0, 0.0), phyvec(0.0, -sqrt(0.001), 0.0));\n",
    "Body body1(0.001 / a.getG(), phyvec(1, 0.0, 0.0), phyvec(0.0, +sqrt(1 - 0.001), 0.0));\n",
    "Body body2;\n",
    "\n",
    "a.set_body(body0, 0);\n",
    "a.set_body(body1, 1);\n",
    "a.set_body(body2, 2);\n",
    "\n",
    "phyvec body2_lab_pos = a.L4() + phyvec(0.0065, 0.0065, 0.0);\n",
    "\n",
    "phyvec com_pos = (body0.get_mass() * body0.get_pos() + body1.get_mass() * body1.get_pos()) / (body0.get_mass() + body1.get_mass());\n",
    "phyvec com_vel = (body0.get_mass() * body0.get_vel() + body1.get_mass() * body1.get_vel()) / (body0.get_mass() + body1.get_mass());\n",
    "phyvec rot(a.get_w() * (body2_lab_pos - com_pos)[1], -a.get_w() * (body2_lab_pos - com_pos)[0], 0.0);\n",
    "\n",
    "a.set_mass(0.0, 2);\n",
    "a.set_pos(body2_lab_pos, 2);\n",
    "a.set_vel(com_vel - rot, 2);"
   ]
  },
  {
   "cell_type": "code",
   "execution_count": 3,
   "metadata": {
    "vscode": {
     "languageId": "cpp"
    }
   },
   "outputs": [
    {
     "name": "stdout",
     "output_type": "stream",
     "text": [
      "[5.065000000000000e-01, 8.725254037844385e-01, 0.000000000000000e+00]\n",
      "[-8.725254037844385e-01, 4.749083460498553e-01, 0.000000000000000e+00]"
     ]
    }
   ],
   "source": [
    "cout << a[2].get_pos().to_string() << endl;\n",
    "cout << a[2].get_vel().to_string();"
   ]
  },
  {
   "cell_type": "code",
   "execution_count": 4,
   "metadata": {
    "vscode": {
     "languageId": "cpp"
    }
   },
   "outputs": [],
   "source": [
    "a.evolve(0.0, 30 * M_PI / sqrt(1 - 0.001), 0.001, \"rk4\", true);"
   ]
  },
  {
   "cell_type": "code",
   "execution_count": 5,
   "metadata": {
    "vscode": {
     "languageId": "cpp"
    }
   },
   "outputs": [],
   "source": [
    "a.light_rcom_to_csv(\"examples/outputs/tadpole.csv\")"
   ]
  },
  {
   "cell_type": "code",
   "execution_count": 6,
   "metadata": {
    "vscode": {
     "languageId": "cpp"
    }
   },
   "outputs": [],
   "source": [
    "Crtb b;\n",
    "\n",
    "Body body0b((1 - 0.000953875) / a.getG(), phyvec(0, 0.0, 0.0), phyvec(0.0, -sqrt(0.000953875), 0.0));\n",
    "Body body1b(0.000953875 / a.getG(), phyvec(1, 0.0, 0.0), phyvec(0.0, +sqrt(1 - 0.000953875), 0.0));\n",
    "Body body2b;\n",
    "\n",
    "b.set_body(body0b, 0);\n",
    "b.set_body(body1b, 1);\n",
    "b.set_body(body2b, 2);\n",
    "\n",
    "phyvec body2_lab_posb = phyvec(-1.02745, 0.0, 0.0);\n",
    "\n",
    "phyvec com_posb = (body0b.get_mass() * body0b.get_pos() + body1b.get_mass() * body1b.get_pos()) / (body0b.get_mass() + body1b.get_mass());\n",
    "phyvec com_velb = (body0b.get_mass() * body0b.get_vel() + body1b.get_mass() * body1b.get_vel()) / (body0b.get_mass() + body1b.get_mass());\n",
    "phyvec rotb(b.get_w() * (body2_lab_posb - com_posb)[1], -b.get_w() * (body2_lab_posb - com_posb)[0], 0.0);\n",
    "\n",
    "b.set_mass(0.0, 2);\n",
    "b.set_pos(body2_lab_posb, 2);\n",
    "b.set_vel(com_velb - rotb + phyvec(0.0, 0.04032, 0.0), 2);"
   ]
  },
  {
   "cell_type": "code",
   "execution_count": 11,
   "metadata": {
    "vscode": {
     "languageId": "cpp"
    }
   },
   "outputs": [
    {
     "data": {
      "text/plain": [
       "0.99952295"
      ]
     },
     "execution_count": 11,
     "metadata": {},
     "output_type": "execute_result"
    }
   ],
   "source": [
    "sqrt(1 - 0.000953875)"
   ]
  },
  {
   "cell_type": "code",
   "execution_count": 8,
   "metadata": {
    "vscode": {
     "languageId": "cpp"
    }
   },
   "outputs": [],
   "source": [
    "b.evolve(0.0, 60 * M_PI / sqrt(1 - 0.000953875), 0.001, \"rk4\", true);"
   ]
  },
  {
   "cell_type": "code",
   "execution_count": 9,
   "metadata": {
    "vscode": {
     "languageId": "cpp"
    }
   },
   "outputs": [],
   "source": [
    "b.light_rcom_to_csv(\"examples/outputs/horseshoe.csv\")"
   ]
  }
 ],
 "metadata": {
  "kernelspec": {
   "display_name": "C++17",
   "language": "C++17",
   "name": "xcpp17"
  },
  "language_info": {
   "codemirror_mode": "text/x-c++src",
   "file_extension": ".cpp",
   "mimetype": "text/x-c++src",
   "name": "c++",
   "version": "17"
  },
  "orig_nbformat": 4
 },
 "nbformat": 4,
 "nbformat_minor": 2
}
