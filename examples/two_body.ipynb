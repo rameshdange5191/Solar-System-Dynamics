{
 "cells": [
  {
   "cell_type": "code",
   "execution_count": 1,
   "metadata": {
    "vscode": {
     "languageId": "cpp"
    }
   },
   "outputs": [],
   "source": [
    "# include \"phyvec/phyvec.cpp\"\n",
    "# include \"body/Twobody/Twobody.cpp\"\n",
    "# include <iostream>\n",
    "# include <cmath>\n",
    "# include <functional>\n",
    "# include <string>\n",
    "# include <vector>\n",
    "# include \"integrator/integrator.cpp\"\n",
    "# include \"body/Body.cpp\"\n",
    "# include \"body/System.cpp\"\n",
    "# include \"body/black_photon/Black_photon.cpp\"\n",
    "using namespace std;"
   ]
  },
  {
   "cell_type": "code",
   "execution_count": 2,
   "metadata": {
    "vscode": {
     "languageId": "cpp"
    }
   },
   "outputs": [],
   "source": [
    "double G = 6.67408e-11;"
   ]
  },
  {
   "cell_type": "code",
   "execution_count": 3,
   "metadata": {
    "vscode": {
     "languageId": "cpp"
    }
   },
   "outputs": [],
   "source": [
    "double m1 = 1e21;\n",
    "double m2 = 1e21;\n",
    "double d = pow((100 * 100 * G * (m1 + m2) / (4 * M_PI * M_PI)), (1/3.0)); //time period = 100 seconds\n",
    "\n",
    "double v1 = sqrt(G * m2 / d); // velocity w.r.t c.o.m\n",
    "double v2 = -sqrt(G * m1 / d); // velocity w.r.t c.o.m\n",
    "\n",
    "double v_com = abs(v1) / 5.0;\n",
    "\n",
    "Body body0 = Body(m1, phyvec(0.0, 0.0, 0.0), phyvec(0.0, v1 + v_com, 0.0));\n",
    "Body body1 = Body(m2, phyvec(d, 0.0, 0.0), phyvec(0.0, v2 + v_com, 0.0));"
   ]
  },
  {
   "cell_type": "code",
   "execution_count": 4,
   "metadata": {
    "vscode": {
     "languageId": "cpp"
    }
   },
   "outputs": [],
   "source": [
    "Twobody a(body0, body1);"
   ]
  },
  {
   "cell_type": "code",
   "execution_count": 5,
   "metadata": {
    "vscode": {
     "languageId": "cpp"
    }
   },
   "outputs": [],
   "source": [
    "a.evolve(0.0, 100, 0.01, \"fwd_euler\", true);"
   ]
  },
  {
   "cell_type": "code",
   "execution_count": 6,
   "metadata": {
    "vscode": {
     "languageId": "cpp"
    }
   },
   "outputs": [],
   "source": [
    "a.state_to_csv(\"examples/outputs/body0_run_0.csv\", 0);\n",
    "a.state_to_csv(\"examples/outputs/body1_run_0.csv\", 1);"
   ]
  },
  {
   "cell_type": "code",
   "execution_count": 8,
   "metadata": {
    "vscode": {
     "languageId": "cpp"
    }
   },
   "outputs": [],
   "source": [
    "a.set_pos(phyvec(0.0, 0.0, 0.0), 0).set_pos(phyvec(d, 0.0, 0.0), 1);\n",
    "a.set_vel(phyvec(0.0, 0.5 * v1 + v_com, 0.0), 0).set_vel(phyvec(0.0, -v1 + v_com, 0.0), 1);\n",
    "\n",
    "a.clear_state();"
   ]
  },
  {
   "cell_type": "code",
   "execution_count": 9,
   "metadata": {
    "vscode": {
     "languageId": "cpp"
    }
   },
   "outputs": [],
   "source": [
    "a.evolve(0.0, 100, 0.01, \"eulric\", true);"
   ]
  },
  {
   "cell_type": "code",
   "execution_count": 12,
   "metadata": {
    "vscode": {
     "languageId": "cpp"
    }
   },
   "outputs": [],
   "source": [
    "a.state_to_csv(\"outputs/body0_run_2.csv\", 0);\n",
    "a.state_to_csv(\"outputs/body1_run_2.csv\", 1);"
   ]
  },
  {
   "cell_type": "code",
   "execution_count": 15,
   "metadata": {
    "vscode": {
     "languageId": "cpp"
    }
   },
   "outputs": [],
   "source": [
    "a.set_pos(phyvec(0.0, 0.0, 0.0), 0).set_pos(phyvec(d, 0.0, 0.0), 1);\n",
    "a.set_vel(phyvec(0.0, 2 * v1 + v_com, 0.0), 0).set_vel(phyvec(0.0, -v1 + v_com, 0.0), 1);\n",
    "\n",
    "a.clear_state();"
   ]
  },
  {
   "cell_type": "code",
   "execution_count": 16,
   "metadata": {
    "vscode": {
     "languageId": "cpp"
    }
   },
   "outputs": [],
   "source": [
    "a.evolve(0.0, 100, 0.01, \"eulric\", true);"
   ]
  },
  {
   "cell_type": "code",
   "execution_count": 19,
   "metadata": {
    "vscode": {
     "languageId": "cpp"
    }
   },
   "outputs": [],
   "source": [
    "a.state_to_csv(\"outputs/body0_run_3.csv\", 0);\n",
    "a.state_to_csv(\"outputs/body1_run_3.csv\", 1);"
   ]
  },
  {
   "cell_type": "code",
   "execution_count": null,
   "metadata": {
    "vscode": {
     "languageId": "cpp"
    }
   },
   "outputs": [],
   "source": []
  }
 ],
 "metadata": {
  "kernelspec": {
   "display_name": "C++17",
   "language": "C++17",
   "name": "xcpp17"
  },
  "language_info": {
   "codemirror_mode": "text/x-c++src",
   "file_extension": ".cpp",
   "mimetype": "text/x-c++src",
   "name": "C++17",
   "version": "17"
  },
  "orig_nbformat": 4
 },
 "nbformat": 4,
 "nbformat_minor": 2
}
